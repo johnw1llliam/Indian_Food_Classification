{
 "cells": [
  {
   "cell_type": "markdown",
   "id": "67816ae5",
   "metadata": {},
   "source": [
    "## Importing Library"
   ]
  },
  {
   "cell_type": "code",
   "execution_count": 4,
   "id": "8f4cadd2",
   "metadata": {},
   "outputs": [],
   "source": [
    "HOME = 'PROJECT_DIRECTORY'"
   ]
  },
  {
   "cell_type": "code",
   "execution_count": 6,
   "id": "ab79b2e8",
   "metadata": {},
   "outputs": [],
   "source": [
    "!yolo export model={HOME}/runs/detect/train/weights/best.pt format=tflite"
   ]
  }
 ],
 "metadata": {
  "kernelspec": {
   "display_name": "Python 3 (ipykernel)",
   "language": "python",
   "name": "python3"
  },
  "language_info": {
   "codemirror_mode": {
    "name": "ipython",
    "version": 3
   },
   "file_extension": ".py",
   "mimetype": "text/x-python",
   "name": "python",
   "nbconvert_exporter": "python",
   "pygments_lexer": "ipython3",
   "version": "3.9.17"
  }
 },
 "nbformat": 4,
 "nbformat_minor": 5
}
